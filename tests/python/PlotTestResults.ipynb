{
 "metadata": {
  "name": "",
  "signature": "sha256:0ac1be192a6b2468fd64dc9a8c61115c215a19d03222be83acfaf948cd69411b"
 },
 "nbformat": 3,
 "nbformat_minor": 0,
 "worksheets": [
  {
   "cells": [
    {
     "cell_type": "code",
     "collapsed": false,
     "input": [
      "import sys,os,imp,re\n",
      "import math\n",
      "import numpy as np\n",
      "import matplotlib as mpl\n",
      "\n",
      "import matplotlib.cm as cm\n",
      "import matplotlib.pyplot as plt\n",
      "\n",
      "import matplotlib.colors as colors\n",
      "import matplotlib.cm as cmx\n",
      "from mpl_toolkits.mplot3d import Axes3D\n",
      "\n",
      "#this works apparently only for savefig stuff\n",
      "mpl.rcParams['figure.figsize']=(6.0,4.0)    #(6.0,4.0)\n",
      "mpl.rcParams['font.size']=10                #10 \n",
      "mpl.rcParams['savefig.dpi']=400             #72 \n",
      "mpl.rcParams['figure.subplot.bottom']=.1    #.125\n",
      "\n",
      "plt.rc('font', family='serif')\n",
      "plt.rc('text', usetex=True)\n",
      "\n",
      "#inline Shit\n",
      "%matplotlib inline\n",
      "%config InlineBackend.figure_format='svg'\n",
      "%config InlineBackend.rc = {'figure.facecolor': 'white', 'figure.subplot.bottom': 0.125, 'figure.edgecolor': 'white', 'savefig.dpi': 400, 'figure.figsize': (12.0, 8.0), 'font.size': 10}\n",
      "\n",
      "#GUi shit\n",
      "%matplotlib tk\n",
      "mpl.get_configdir()"
     ],
     "language": "python",
     "metadata": {},
     "outputs": [
      {
       "metadata": {},
       "output_type": "pyout",
       "prompt_number": 2,
       "text": [
        "'/home/zfmgpu/.config/matplotlib'"
       ]
      }
     ],
     "prompt_number": 2
    },
    {
     "cell_type": "code",
     "collapsed": false,
     "input": [
      "\n",
      "def plotCube(minP = np.array([-1.0,-1.0,-1.0]), maxP=np.array([1.0,1.0,1.0]),\n",
      "             trans= np.array([0.0,0.0,0.0]),rotationMatrix=np.diag([1,1,1])):\n",
      "    from itertools import product, combinations\n",
      "    r = [-1, 1]\n",
      "    \n",
      "    centerPos = (maxP + minP)/2.0;\n",
      "    #print(centerPos)\n",
      "    extent = (maxP - minP)/2.0;\n",
      "    \n",
      "    points = np.array([(-1, -1, -1),\n",
      "                     (-1, -1, 1),\n",
      "                     (-1, 1, -1),\n",
      "                     (-1, 1, 1),\n",
      "                     (1, -1, -1),\n",
      "                     (1, -1, 1),\n",
      "                     (1, 1, -1),\n",
      "                     (1, 1, 1)]);\n",
      "    \n",
      "    for s, e in combinations(points, 2):\n",
      "        if np.sum(np.abs(s-e)) == r[1]-r[0]: # no diagonal lines\n",
      "            p1 = np.array(s,dtype=float); p2 = np.array(e,dtype=float);\n",
      "            #scale points\n",
      "            p1*=extent; p2*=extent;\n",
      "            #rotate and translate points\n",
      "            p1 = rotationMatrix.dot(p1 + centerPos) + trans;\n",
      "            p2 = rotationMatrix.dot(p2+centerPos) + trans;\n",
      "            ax.plot3D(*zip(p1,p2), color=\"b\")\n",
      "\n",
      "def plotAxis(centerPos,A_IK,plotAxisScale=1):\n",
      "        for i,c in zip([0,1,2],['r','g','b']):\n",
      "            I_eK_i = A_IK[:,i];\n",
      "            lines = list(zip(centerPos,plotAxisScale*I_eK_i+centerPos))\n",
      "            v = Arrow3D(*lines, mutation_scale=50, lw=1, arrowstyle=\"-|>\", color=c);\n",
      "            ax.plot3D(*lines, color=c)\n",
      "            ax.add_artist(v);\n",
      "\n",
      "            \n",
      "from matplotlib.patches import FancyArrowPatch\n",
      "from mpl_toolkits.mplot3d import proj3d\n",
      "class Arrow3D(FancyArrowPatch):\n",
      "        def __init__(self, xs, ys, zs, *args, **kwargs):\n",
      "            FancyArrowPatch.__init__(self, (0,0), (0,0), *args, **kwargs)\n",
      "            self._verts3d = xs, ys, zs\n",
      "     \n",
      "        def draw(self, renderer):\n",
      "            xs3d, ys3d, zs3d = self._verts3d\n",
      "            xs, ys, zs = proj3d.proj_transform(xs3d, ys3d, zs3d, renderer.M)\n",
      "            self.set_positions((xs[0],ys[0]),(xs[1],ys[1]))\n",
      "            FancyArrowPatch.draw(self, renderer)  \n"
     ],
     "language": "python",
     "metadata": {},
     "outputs": [],
     "prompt_number": 3
    },
    {
     "cell_type": "code",
     "collapsed": false,
     "input": [
      "def axisEqual3D(ax):\n",
      "    extents = np.array([getattr(ax, 'get_{}lim'.format(dim))() for dim in 'xyz'])\n",
      "    sz = extents[:,1] - extents[:,0]\n",
      "    centers = np.mean(extents, axis=1)\n",
      "    maxsize = max(abs(sz))\n",
      "    r = maxsize/2\n",
      "    for ctr, dim in zip(centers, 'xyz'):\n",
      "        getattr(ax, 'set_{}lim'.format(dim))(ctr - r, ctr + r)"
     ],
     "language": "python",
     "metadata": {},
     "outputs": [],
     "prompt_number": 4
    },
    {
     "cell_type": "code",
     "collapsed": false,
     "input": [
      "# get all files\n",
      "def loadFiles(folderPath,filePathRegex):\n",
      "    files = [ os.path.join(folderPath,f) for f in os.listdir(folderPath) if os.path.isfile( os.path.join(folderPath,f) ) ]\n",
      "    filePaths=dict();\n",
      "    for f in files:\n",
      "        res = re.match(filePathRegex,f)\n",
      "        if(res):\n",
      "            fileNr = res.group(1);\n",
      "            filePaths[int(fileNr)] = f;\n",
      "    return filePaths;"
     ],
     "language": "python",
     "metadata": {},
     "outputs": [],
     "prompt_number": 5
    },
    {
     "cell_type": "markdown",
     "metadata": {},
     "source": [
      "Convex Hull Tests\n",
      "================="
     ]
    },
    {
     "cell_type": "code",
     "collapsed": false,
     "input": [
      "plt.close(\"all\")\n",
      "\n",
      "files = loadFiles(\"./\" , \".*ConvexHullTest(\\d+)\\.txt\");\n",
      "filesOut = loadFiles(\"./\" , \".*ConvexHullTest(\\d+)Out\\.txt\");\n",
      "\n",
      "for i,f in files.items():\n",
      "\n",
      "    fOut = filesOut[i]; print(i,f,fOut)\n",
      "    fig = plt.figure(\"ConvexHullTest\"+str(i),(10,10))\n",
      "    \n",
      "    points = np.atleast_2d(np.loadtxt(f));\n",
      "    hullP = np.atleast_2d(np.loadtxt(fOut));\n",
      "    \n",
      "    hullP = np.vstack((hullP,hullP[0]))\n",
      "    plt.plot(hullP.T[0],hullP.T[1],'b-o', ms=20, markerfacecolor='None')\n",
      "    \n",
      "    plt.scatter(points.T[0],points.T[1])\n",
      "    if(len(points)<300):\n",
      "        nrRange = [(i,p[0],p[1])  for i,p in enumerate(points) ]\n",
      "        for x in nrRange:      \n",
      "            plt.annotate('%s' % x[0], xy=x[1:3], textcoords='offset points') # <--\n",
      "    \n",
      "\n"
     ],
     "language": "python",
     "metadata": {},
     "outputs": [
      {
       "output_type": "stream",
       "stream": "stdout",
       "text": [
        "1 ./ConvexHullTest1.txt ./ConvexHullTest1Out.txt\n",
        "2"
       ]
      },
      {
       "output_type": "stream",
       "stream": "stdout",
       "text": [
        " ./ConvexHullTest2.txt ./ConvexHullTest2Out.txt\n",
        "3"
       ]
      },
      {
       "output_type": "stream",
       "stream": "stdout",
       "text": [
        " ./ConvexHullTest3.txt ./ConvexHullTest3Out.txt\n",
        "4"
       ]
      },
      {
       "output_type": "stream",
       "stream": "stdout",
       "text": [
        " ./ConvexHullTest4.txt ./ConvexHullTest4Out.txt\n",
        "6"
       ]
      },
      {
       "output_type": "stream",
       "stream": "stdout",
       "text": [
        " ./ConvexHullTest6.txt ./ConvexHullTest6Out.txt\n",
        "7"
       ]
      },
      {
       "output_type": "stream",
       "stream": "stdout",
       "text": [
        " ./ConvexHullTest7.txt ./ConvexHullTest7Out.txt\n",
        "8"
       ]
      },
      {
       "output_type": "stream",
       "stream": "stdout",
       "text": [
        " ./ConvexHullTest8.txt ./ConvexHullTest8Out.txt\n",
        "9"
       ]
      },
      {
       "output_type": "stream",
       "stream": "stdout",
       "text": [
        " ./ConvexHullTest9.txt ./ConvexHullTest9Out.txt\n"
       ]
      },
      {
       "output_type": "stream",
       "stream": "stderr",
       "text": [
        "/opt/python3.4env/lib/python3.4/site-packages/mpl_toolkits/mplot3d/axes3d.py:1094: FutureWarning: comparison to `None` will result in an elementwise object comparison in the future.\n",
        "  if self.button_pressed in self._rotate_btn:\n"
       ]
      }
     ],
     "prompt_number": 9
    },
    {
     "cell_type": "markdown",
     "metadata": {},
     "source": [
      "Min Area Rectangle Tests\n",
      "========================"
     ]
    },
    {
     "cell_type": "code",
     "collapsed": false,
     "input": [
      "\n",
      "\n",
      "files = loadFiles(\"./\" , \".*MinAreaRectangleTest(\\d+)\\.txt\");\n",
      "filesOut = loadFiles(\"./\" , \".*MinAreaRectangleTest(\\d+)Out\\.txt\");\n",
      "\n",
      "for i,f in files.items():\n",
      "    if(i==9): continue # skip test 9, it is empty!\n",
      "    fOut = filesOut[i]; print(i,f,fOut)\n",
      "    fig = plt.figure(\"MinAreaRectangleTest\"+str(i),(10,10))\n",
      "    \n",
      "    points = np.atleast_2d(np.loadtxt(f));\n",
      "    rect  = np.atleast_2d(np.loadtxt(fOut));\n",
      "    rect = np.vstack((rect,rect[0]))\n",
      "\n",
      "    plt.plot(rect.T[0],rect.T[1],'r-', ms=20, markerfacecolor='None')\n",
      "    if(i!=12):\n",
      "        plt.scatter(points.T[0],points.T[1])\n",
      "    \n",
      "    plt.axis('equal')"
     ],
     "language": "python",
     "metadata": {},
     "outputs": [
      {
       "output_type": "stream",
       "stream": "stdout",
       "text": [
        "1 ./MinAreaRectangleTest1.txt ./MinAreaRectangleTest1Out.txt\n",
        "2"
       ]
      },
      {
       "output_type": "stream",
       "stream": "stdout",
       "text": [
        " ./MinAreaRectangleTest2.txt ./MinAreaRectangleTest2Out.txt\n",
        "3"
       ]
      },
      {
       "output_type": "stream",
       "stream": "stdout",
       "text": [
        " ./MinAreaRectangleTest3.txt ./MinAreaRectangleTest3Out.txt\n",
        "4"
       ]
      },
      {
       "output_type": "stream",
       "stream": "stdout",
       "text": [
        " ./MinAreaRectangleTest4.txt ./MinAreaRectangleTest4Out.txt\n",
        "5"
       ]
      },
      {
       "output_type": "stream",
       "stream": "stdout",
       "text": [
        " ./MinAreaRectangleTest5.txt ./MinAreaRectangleTest5Out.txt\n",
        "6"
       ]
      },
      {
       "output_type": "stream",
       "stream": "stdout",
       "text": [
        " ./MinAreaRectangleTest6.txt ./MinAreaRectangleTest6Out.txt\n",
        "7"
       ]
      },
      {
       "output_type": "stream",
       "stream": "stdout",
       "text": [
        " ./MinAreaRectangleTest7.txt ./MinAreaRectangleTest7Out.txt\n",
        "8"
       ]
      },
      {
       "output_type": "stream",
       "stream": "stdout",
       "text": [
        " ./MinAreaRectangleTest8.txt ./MinAreaRectangleTest8Out.txt\n",
        "10"
       ]
      },
      {
       "output_type": "stream",
       "stream": "stdout",
       "text": [
        " ./MinAreaRectangleTest10.txt ./MinAreaRectangleTest10Out.txt\n",
        "11"
       ]
      },
      {
       "output_type": "stream",
       "stream": "stdout",
       "text": [
        " ./MinAreaRectangleTest11.txt ./MinAreaRectangleTest11Out.txt\n",
        "13"
       ]
      },
      {
       "output_type": "stream",
       "stream": "stdout",
       "text": [
        " ./MinAreaRectangleTest13.txt ./MinAreaRectangleTest13Out.txt\n",
        "14"
       ]
      },
      {
       "output_type": "stream",
       "stream": "stdout",
       "text": [
        " ./MinAreaRectangleTest14.txt ./MinAreaRectangleTest14Out.txt\n"
       ]
      }
     ],
     "prompt_number": 10
    },
    {
     "cell_type": "markdown",
     "metadata": {},
     "source": [
      "Diameter MVBB Tests\n",
      "========================"
     ]
    },
    {
     "cell_type": "code",
     "collapsed": false,
     "input": [
      "plt.close(\"all\")"
     ],
     "language": "python",
     "metadata": {},
     "outputs": [],
     "prompt_number": 16
    },
    {
     "cell_type": "code",
     "collapsed": false,
     "input": [
      "plt.close(\"all\")\n",
      "\n",
      "files = loadFiles(\"./\" , \".*DiameterTest(\\d+)\\.txt\");\n",
      "filesOut = loadFiles(\"./\" , \".*DiameterTest(\\d+)Out\\.txt\");\n",
      "filesOut2 = loadFiles(\"./\" , \".*DiameterTest(\\d+)Out2\\.txt\");\n",
      "\n",
      "for i,f in files.items():\n",
      "    if(i==9): continue # skip test 9, it is empty!\n",
      "    fOut = filesOut[i]; fOut2 = filesOut2[i]; print(i,f,fOut,fOut2)\n",
      "    fig = plt.figure(\"DiameterTest\"+str(i),(10,10))\n",
      "    \n",
      "    points = np.atleast_2d(np.loadtxt(f));\n",
      "    OOBB = np.atleast_2d(np.loadtxt(fOut));\n",
      "    sampled = np.atleast_2d(np.loadtxt(fOut2));\n",
      "\n",
      "    K_min = OOBB[0,0:3]\n",
      "    K_max = OOBB[1,0:3]\n",
      "    A_IK = OOBB[2:,0:3]\n",
      "    center = np.zeros((3,));\n",
      "    #print(A_IK,K_min,K_max,center)\n",
      "\n",
      "    ax = Axes3D(fig)\n",
      "    ax.scatter(points.T[0],points.T[1],points.T[2],c='b')\n",
      "    ax.scatter(sampled.T[0],sampled.T[1],sampled.T[2],c='r', marker='o', s=200)\n",
      "    plotCube(K_min,K_max,center,A_IK) # A_IK = R_KI (rotation from I to K)\n",
      "    plotAxis(center,A_IK,1)\n",
      "    plotAxis(center,np.identity(3),0.5)\n",
      "    axisEqual3D(ax)\n"
     ],
     "language": "python",
     "metadata": {},
     "outputs": [
      {
       "output_type": "stream",
       "stream": "stdout",
       "text": [
        "1 ./DiameterTest1.txt ./DiameterTest1Out.txt ./DiameterTest1Out2.txt\n",
        "2"
       ]
      },
      {
       "output_type": "stream",
       "stream": "stdout",
       "text": [
        " ./DiameterTest2.txt ./DiameterTest2Out.txt ./DiameterTest2Out2.txt\n",
        "3"
       ]
      },
      {
       "output_type": "stream",
       "stream": "stdout",
       "text": [
        " ./DiameterTest3.txt ./DiameterTest3Out.txt ./DiameterTest3Out2.txt\n",
        "4"
       ]
      },
      {
       "output_type": "stream",
       "stream": "stdout",
       "text": [
        " ./DiameterTest4.txt ./DiameterTest4Out.txt ./DiameterTest4Out2.txt\n",
        "8"
       ]
      },
      {
       "output_type": "stream",
       "stream": "stdout",
       "text": [
        " ./DiameterTest8.txt ./DiameterTest8Out.txt ./DiameterTest8Out2.txt\n",
        "10"
       ]
      },
      {
       "output_type": "stream",
       "stream": "stdout",
       "text": [
        " ./DiameterTest10.txt ./DiameterTest10Out.txt ./DiameterTest10Out2.txt\n",
        "11"
       ]
      },
      {
       "output_type": "stream",
       "stream": "stdout",
       "text": [
        " ./DiameterTest11.txt ./DiameterTest11Out.txt ./DiameterTest11Out2.txt\n",
        "12"
       ]
      },
      {
       "output_type": "stream",
       "stream": "stdout",
       "text": [
        " ./DiameterTest12.txt ./DiameterTest12Out.txt ./DiameterTest12Out2.txt\n",
        "13"
       ]
      },
      {
       "output_type": "stream",
       "stream": "stdout",
       "text": [
        " ./DiameterTest13.txt ./DiameterTest13Out.txt ./DiameterTest13Out2.txt\n",
        "14"
       ]
      },
      {
       "output_type": "stream",
       "stream": "stdout",
       "text": [
        " ./DiameterTest14.txt ./DiameterTest14Out.txt ./DiameterTest14Out2.txt\n",
        "15"
       ]
      },
      {
       "output_type": "stream",
       "stream": "stdout",
       "text": [
        " ./DiameterTest15.txt ./DiameterTest15Out.txt ./DiameterTest15Out2.txt\n",
        "16"
       ]
      },
      {
       "output_type": "stream",
       "stream": "stdout",
       "text": [
        " ./DiameterTest16.txt ./DiameterTest16Out.txt ./DiameterTest16Out2.txt\n",
        "17"
       ]
      },
      {
       "output_type": "stream",
       "stream": "stdout",
       "text": [
        " ./DiameterTest17.txt ./DiameterTest17Out.txt ./DiameterTest17Out2.txt\n",
        "18"
       ]
      },
      {
       "output_type": "stream",
       "stream": "stdout",
       "text": [
        " ./DiameterTest18.txt ./DiameterTest18Out.txt ./DiameterTest18Out2.txt\n",
        "19"
       ]
      },
      {
       "output_type": "stream",
       "stream": "stdout",
       "text": [
        " ./DiameterTest19.txt ./DiameterTest19Out.txt ./DiameterTest19Out2.txt\n",
        "20"
       ]
      },
      {
       "output_type": "stream",
       "stream": "stdout",
       "text": [
        " ./DiameterTest20.txt ./DiameterTest20Out.txt ./DiameterTest20Out2.txt\n",
        "21"
       ]
      },
      {
       "output_type": "stream",
       "stream": "stdout",
       "text": [
        " ./DiameterTest21.txt ./DiameterTest21Out.txt ./DiameterTest21Out2.txt\n",
        "22"
       ]
      },
      {
       "output_type": "stream",
       "stream": "stdout",
       "text": [
        " ./DiameterTest22.txt ./DiameterTest22Out.txt ./DiameterTest22Out2.txt\n",
        "23"
       ]
      },
      {
       "output_type": "stream",
       "stream": "stdout",
       "text": [
        " ./DiameterTest23.txt ./DiameterTest23Out.txt ./DiameterTest23Out2.txt\n",
        "24"
       ]
      },
      {
       "output_type": "stream",
       "stream": "stdout",
       "text": [
        " ./DiameterTest24.txt ./DiameterTest24Out.txt ./DiameterTest24Out2.txt\n",
        "25"
       ]
      },
      {
       "output_type": "stream",
       "stream": "stdout",
       "text": [
        " ./DiameterTest25.txt ./DiameterTest25Out.txt ./DiameterTest25Out2.txt\n",
        "26"
       ]
      },
      {
       "output_type": "stream",
       "stream": "stdout",
       "text": [
        " ./DiameterTest26.txt ./DiameterTest26Out.txt ./DiameterTest26Out2.txt\n",
        "27"
       ]
      },
      {
       "output_type": "stream",
       "stream": "stdout",
       "text": [
        " ./DiameterTest27.txt ./DiameterTest27Out.txt ./DiameterTest27Out2.txt\n",
        "28"
       ]
      },
      {
       "output_type": "stream",
       "stream": "stdout",
       "text": [
        " ./DiameterTest28.txt ./DiameterTest28Out.txt ./DiameterTest28Out2.txt\n",
        "29"
       ]
      },
      {
       "output_type": "stream",
       "stream": "stdout",
       "text": [
        " ./DiameterTest29.txt ./DiameterTest29Out.txt ./DiameterTest29Out2.txt\n",
        "30"
       ]
      },
      {
       "output_type": "stream",
       "stream": "stdout",
       "text": [
        " ./DiameterTest30.txt ./DiameterTest30Out.txt ./DiameterTest30Out2.txt\n",
        "31"
       ]
      },
      {
       "output_type": "stream",
       "stream": "stdout",
       "text": [
        " ./DiameterTest31.txt ./DiameterTest31Out.txt ./DiameterTest31Out2.txt\n",
        "32"
       ]
      },
      {
       "output_type": "stream",
       "stream": "stdout",
       "text": [
        " ./DiameterTest32.txt ./DiameterTest32Out.txt ./DiameterTest32Out2.txt\n",
        "33"
       ]
      },
      {
       "output_type": "stream",
       "stream": "stdout",
       "text": [
        " ./DiameterTest33.txt ./DiameterTest33Out.txt ./DiameterTest33Out2.txt\n",
        "34"
       ]
      },
      {
       "output_type": "stream",
       "stream": "stdout",
       "text": [
        " ./DiameterTest34.txt ./DiameterTest34Out.txt ./DiameterTest34Out2.txt\n",
        "35"
       ]
      },
      {
       "output_type": "stream",
       "stream": "stdout",
       "text": [
        " ./DiameterTest35.txt ./DiameterTest35Out.txt ./DiameterTest35Out2.txt\n",
        "36"
       ]
      },
      {
       "output_type": "stream",
       "stream": "stdout",
       "text": [
        " ./DiameterTest36.txt ./DiameterTest36Out.txt ./DiameterTest36Out2.txt\n",
        "37"
       ]
      },
      {
       "output_type": "stream",
       "stream": "stdout",
       "text": [
        " ./DiameterTest37.txt ./DiameterTest37Out.txt ./DiameterTest37Out2.txt\n",
        "38"
       ]
      },
      {
       "output_type": "stream",
       "stream": "stdout",
       "text": [
        " ./DiameterTest38.txt ./DiameterTest38Out.txt ./DiameterTest38Out2.txt\n",
        "39"
       ]
      },
      {
       "output_type": "stream",
       "stream": "stdout",
       "text": [
        " ./DiameterTest39.txt ./DiameterTest39Out.txt ./DiameterTest39Out2.txt\n",
        "40"
       ]
      },
      {
       "output_type": "stream",
       "stream": "stdout",
       "text": [
        " ./DiameterTest40.txt ./DiameterTest40Out.txt ./DiameterTest40Out2.txt\n",
        "41"
       ]
      },
      {
       "output_type": "stream",
       "stream": "stdout",
       "text": [
        " ./DiameterTest41.txt ./DiameterTest41Out.txt ./DiameterTest41Out2.txt\n",
        "42"
       ]
      },
      {
       "output_type": "stream",
       "stream": "stdout",
       "text": [
        " ./DiameterTest42.txt ./DiameterTest42Out.txt ./DiameterTest42Out2.txt\n",
        "43"
       ]
      },
      {
       "output_type": "stream",
       "stream": "stdout",
       "text": [
        " ./DiameterTest43.txt ./DiameterTest43Out.txt ./DiameterTest43Out2.txt\n",
        "44"
       ]
      },
      {
       "output_type": "stream",
       "stream": "stdout",
       "text": [
        " ./DiameterTest44.txt ./DiameterTest44Out.txt ./DiameterTest44Out2.txt\n",
        "45"
       ]
      },
      {
       "output_type": "stream",
       "stream": "stdout",
       "text": [
        " ./DiameterTest45.txt ./DiameterTest45Out.txt ./DiameterTest45Out2.txt\n",
        "46"
       ]
      },
      {
       "output_type": "stream",
       "stream": "stdout",
       "text": [
        " ./DiameterTest46.txt ./DiameterTest46Out.txt ./DiameterTest46Out2.txt\n",
        "47"
       ]
      },
      {
       "output_type": "stream",
       "stream": "stdout",
       "text": [
        " ./DiameterTest47.txt ./DiameterTest47Out.txt ./DiameterTest47Out2.txt\n",
        "48"
       ]
      },
      {
       "output_type": "stream",
       "stream": "stdout",
       "text": [
        " ./DiameterTest48.txt ./DiameterTest48Out.txt ./DiameterTest48Out2.txt\n",
        "49"
       ]
      },
      {
       "output_type": "stream",
       "stream": "stdout",
       "text": [
        " ./DiameterTest49.txt ./DiameterTest49Out.txt ./DiameterTest49Out2.txt\n",
        "50"
       ]
      },
      {
       "output_type": "stream",
       "stream": "stdout",
       "text": [
        " ./DiameterTest50.txt ./DiameterTest50Out.txt ./DiameterTest50Out2.txt\n",
        "51"
       ]
      },
      {
       "output_type": "stream",
       "stream": "stdout",
       "text": [
        " ./DiameterTest51.txt ./DiameterTest51Out.txt ./DiameterTest51Out2.txt\n",
        "52"
       ]
      },
      {
       "output_type": "stream",
       "stream": "stdout",
       "text": [
        " ./DiameterTest52.txt ./DiameterTest52Out.txt ./DiameterTest52Out2.txt\n",
        "53"
       ]
      },
      {
       "output_type": "stream",
       "stream": "stdout",
       "text": [
        " ./DiameterTest53.txt ./DiameterTest53Out.txt ./DiameterTest53Out2.txt\n",
        "54"
       ]
      },
      {
       "output_type": "stream",
       "stream": "stdout",
       "text": [
        " ./DiameterTest54.txt ./DiameterTest54Out.txt ./DiameterTest54Out2.txt\n",
        "55"
       ]
      },
      {
       "output_type": "stream",
       "stream": "stdout",
       "text": [
        " ./DiameterTest55.txt ./DiameterTest55Out.txt ./DiameterTest55Out2.txt\n",
        "56"
       ]
      },
      {
       "output_type": "stream",
       "stream": "stdout",
       "text": [
        " ./DiameterTest56.txt ./DiameterTest56Out.txt ./DiameterTest56Out2.txt\n",
        "57"
       ]
      },
      {
       "output_type": "stream",
       "stream": "stdout",
       "text": [
        " ./DiameterTest57.txt ./DiameterTest57Out.txt ./DiameterTest57Out2.txt\n",
        "58"
       ]
      },
      {
       "output_type": "stream",
       "stream": "stdout",
       "text": [
        " ./DiameterTest58.txt ./DiameterTest58Out.txt ./DiameterTest58Out2.txt\n"
       ]
      }
     ],
     "prompt_number": 15
    },
    {
     "cell_type": "markdown",
     "metadata": {},
     "source": [
      "MVBB Tests\n",
      "========================"
     ]
    },
    {
     "cell_type": "code",
     "collapsed": false,
     "input": [
      "plt.close(\"all\")"
     ],
     "language": "python",
     "metadata": {},
     "outputs": []
    },
    {
     "cell_type": "code",
     "collapsed": false,
     "input": [
      "plt.close(\"all\")\n",
      "\n",
      "files = loadFiles(\"./\" , \".*MVBBTest(\\d+)\\.txt\");\n",
      "filesOut = loadFiles(\"./\" , \".*MVBBTest(\\d+)Out\\.txt\");\n",
      "\n",
      "for i,f in files.items():\n",
      "    if(i==9): continue # skip test 9, it is empty!\n",
      "    fOut = filesOut[i]; print(i,f,fOut);\n",
      "    fig = plt.figure(\"MVBBTest\" + str(i),(10,10))\n",
      "    \n",
      "    points = np.atleast_2d(np.loadtxt(f));\n",
      "    OOBB = np.atleast_2d(np.loadtxt(fOut));\n",
      "\n",
      "    K_min = OOBB[0,0:3]\n",
      "    K_max = OOBB[1,0:3]\n",
      "    A_IK = OOBB[2:,0:3]\n",
      "    center = np.zeros((3,));\n",
      "    print(A_IK,K_min,K_max,center)\n",
      "    \n",
      "    ax = Axes3D(fig)\n",
      "    if(len(points) < 10000):\n",
      "        ax.scatter(points.T[0],points.T[1],points.T[2],c='b')\n",
      "    plotCube(K_min,K_max,center,A_IK) # A_IK = R_KI (rotation from I to K)\n",
      "    plotAxis(center,A_IK,1)\n",
      "    plotAxis(center,np.identity(3),0.5)\n",
      "    axisEqual3D(ax)"
     ],
     "language": "python",
     "metadata": {},
     "outputs": [
      {
       "output_type": "stream",
       "stream": "stdout",
       "text": [
        "8 ./MVBBTest8.txt ./MVBBTest8Out.txt\n",
        "[[ 0.28228187 -0.94073306  0.18798471]\n",
        " [ 0.9593056   0.27536157 -0.06252026]\n",
        " [ 0.00705111  0.19798312  0.98018007]]"
       ]
      },
      {
       "output_type": "stream",
       "stream": "stdout",
       "text": [
        " [-1.81738415 -2.44701118 -0.36603625] [-0.85060644 -2.44701118  1.13938226] [ 0.  0.  0.]\n"
       ]
      }
     ],
     "prompt_number": 13
    }
   ],
   "metadata": {}
  }
 ]
}