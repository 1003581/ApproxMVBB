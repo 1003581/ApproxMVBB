{
 "metadata": {
  "name": "",
  "signature": "sha256:57a43c6fe32bfcfc9f9d70860a93125cd35d109350189754da019860c81653d8"
 },
 "nbformat": 3,
 "nbformat_minor": 0,
 "worksheets": [
  {
   "cells": [
    {
     "cell_type": "code",
     "collapsed": false,
     "input": [
      "import sys,os,imp,re\n",
      "import math\n",
      "import numpy as np\n",
      "import matplotlib as mpl\n",
      "\n",
      "import matplotlib.cm as cm\n",
      "import matplotlib.pyplot as plt\n",
      "\n",
      "import matplotlib.colors as colors\n",
      "import matplotlib.cm as cmx\n",
      "from mpl_toolkits.mplot3d import Axes3D\n",
      "\n",
      "#this works apparently only for savefig stuff\n",
      "mpl.rcParams['figure.figsize']=(6.0,4.0)    #(6.0,4.0)\n",
      "mpl.rcParams['font.size']=10                #10 \n",
      "mpl.rcParams['savefig.dpi']=400             #72 \n",
      "mpl.rcParams['figure.subplot.bottom']=.1    #.125\n",
      "\n",
      "plt.rc('font', family='serif')\n",
      "plt.rc('text', usetex=True)\n",
      "\n",
      "#inline Shit\n",
      "%matplotlib inline\n",
      "%config InlineBackend.figure_format='svg'\n",
      "%config InlineBackend.rc = {'figure.facecolor': 'white', 'figure.subplot.bottom': 0.125, 'figure.edgecolor': 'white', 'savefig.dpi': 400, 'figure.figsize': (12.0, 8.0), 'font.size': 10}\n",
      "\n",
      "#GUi shit\n",
      "%matplotlib tk\n",
      "mpl.get_configdir()"
     ],
     "language": "python",
     "metadata": {},
     "outputs": [
      {
       "metadata": {},
       "output_type": "pyout",
       "prompt_number": 1,
       "text": [
        "'/home/zfmgpu/.config/matplotlib'"
       ]
      }
     ],
     "prompt_number": 1
    },
    {
     "cell_type": "code",
     "collapsed": false,
     "input": [
      "\n",
      "def plotCube(minP = np.array([-1.0,-1.0,-1.0]), maxP=np.array([1.0,1.0,1.0]),\n",
      "             trans= np.array([0.0,0.0,0.0]),rotationMatrix=np.diag([1,1,1])):\n",
      "    from itertools import product, combinations\n",
      "    r = [-1, 1]\n",
      "    \n",
      "    centerPos = (maxP + minP)/2.0;\n",
      "    #print(centerPos)\n",
      "    extent = (maxP - minP)/2.0;\n",
      "    \n",
      "    points = np.array([(-1, -1, -1),\n",
      "                     (-1, -1, 1),\n",
      "                     (-1, 1, -1),\n",
      "                     (-1, 1, 1),\n",
      "                     (1, -1, -1),\n",
      "                     (1, -1, 1),\n",
      "                     (1, 1, -1),\n",
      "                     (1, 1, 1)]);\n",
      "    \n",
      "    for s, e in combinations(points, 2):\n",
      "        if np.sum(np.abs(s-e)) == r[1]-r[0]: # no diagonal lines\n",
      "            p1 = np.array(s,dtype=float); p2 = np.array(e,dtype=float);\n",
      "            #scale points\n",
      "            p1*=extent; p2*=extent;\n",
      "            #rotate and translate points\n",
      "            p1 = rotationMatrix.dot(p1 + centerPos) + trans;\n",
      "            p2 = rotationMatrix.dot(p2+centerPos) + trans;\n",
      "            ax.plot3D(*zip(p1,p2), color=\"b\")\n",
      "\n",
      "def plotAxis(centerPos,A_IK,plotAxisScale=1):\n",
      "        for i,c in zip([0,1,2],['r','g','b']):\n",
      "            I_eK_i = A_IK[:,i];\n",
      "            lines = list(zip(centerPos,plotAxisScale*I_eK_i+centerPos))\n",
      "            v = Arrow3D(*lines, mutation_scale=50, lw=1, arrowstyle=\"-|>\", color=c);\n",
      "            ax.plot3D(*lines, color=c)\n",
      "            ax.add_artist(v);\n",
      "\n",
      "            \n",
      "from matplotlib.patches import FancyArrowPatch\n",
      "from mpl_toolkits.mplot3d import proj3d\n",
      "class Arrow3D(FancyArrowPatch):\n",
      "        def __init__(self, xs, ys, zs, *args, **kwargs):\n",
      "            FancyArrowPatch.__init__(self, (0,0), (0,0), *args, **kwargs)\n",
      "            self._verts3d = xs, ys, zs\n",
      "     \n",
      "        def draw(self, renderer):\n",
      "            xs3d, ys3d, zs3d = self._verts3d\n",
      "            xs, ys, zs = proj3d.proj_transform(xs3d, ys3d, zs3d, renderer.M)\n",
      "            self.set_positions((xs[0],ys[0]),(xs[1],ys[1]))\n",
      "            FancyArrowPatch.draw(self, renderer)  \n"
     ],
     "language": "python",
     "metadata": {},
     "outputs": [],
     "prompt_number": 2
    },
    {
     "cell_type": "code",
     "collapsed": false,
     "input": [
      "def axisEqual3D(ax):\n",
      "    extents = np.array([getattr(ax, 'get_{}lim'.format(dim))() for dim in 'xyz'])\n",
      "    sz = extents[:,1] - extents[:,0]\n",
      "    centers = np.mean(extents, axis=1)\n",
      "    maxsize = max(abs(sz))\n",
      "    r = maxsize/2\n",
      "    for ctr, dim in zip(centers, 'xyz'):\n",
      "        getattr(ax, 'set_{}lim'.format(dim))(ctr - r, ctr + r)"
     ],
     "language": "python",
     "metadata": {},
     "outputs": [],
     "prompt_number": 3
    },
    {
     "cell_type": "code",
     "collapsed": false,
     "input": [
      "# get all files\n",
      "def loadFiles(folderPath,filePathRegex):\n",
      "    files = [ os.path.join(folderPath,f) for f in os.listdir(folderPath) if os.path.isfile( os.path.join(folderPath,f) ) ]\n",
      "    filePaths=dict();\n",
      "    for f in files:\n",
      "        res = re.match(filePathRegex,f)\n",
      "        if(res):\n",
      "            fileNr = res.group(1);\n",
      "            filePaths[int(fileNr)] = f;\n",
      "    return filePaths;"
     ],
     "language": "python",
     "metadata": {},
     "outputs": [],
     "prompt_number": 4
    },
    {
     "cell_type": "markdown",
     "metadata": {},
     "source": [
      "Convex Hull Tests\n",
      "================="
     ]
    },
    {
     "cell_type": "code",
     "collapsed": false,
     "input": [
      "plt.close(\"all\")\n",
      "\n",
      "files = loadFiles(\"./\" , \".*ConvexHullTest(\\d+)\\.bin\");\n",
      "filesOut = loadFiles(\"./\" , \".*ConvexHullTest(\\d+)Out\\.bin\");\n",
      "\n",
      "for i,f in files.items():\n",
      "\n",
      "    fOut = filesOut[i]; print(i,f,fOut)\n",
      "    fig = plt.figure(\"ConvexHullTest\"+str(i),(10,10))\n",
      "    \n",
      "    points = np.fromfile(f,dtype=np.float64); points=np.reshape(points,(-1,2)) \n",
      "    hullP =  np.fromfile(fOut,dtype=np.float64); hullP=np.reshape(hullP,(-1,2))\n",
      "\n",
      "    #hullP = np.vstack((hullP,hullP[0]))\n",
      "    plt.plot(hullP.T[0],hullP.T[1],'b-o', ms=20, markerfacecolor='None')\n",
      "    \n",
      "    plt.scatter(points.T[0],points.T[1],c='r')\n",
      "    if(len(points)<300):\n",
      "        nrRange = [(i,p[0],p[1])  for i,p in enumerate(points) ]\n",
      "        for x in nrRange:      \n",
      "            plt.annotate('%s' % x[0], xy=x[1:3], textcoords='offset points') # <--\n",
      "    \n",
      "#     if(len(hullP)<300):\n",
      "#         nrRange = [(i,p[0],p[1])  for i,p in enumerate(hullP) ]\n",
      "#         for x in nrRange:      \n",
      "#             plt.annotate('%s' % x[0], xy=x[1:3], textcoords='offset points') # <--\n"
     ],
     "language": "python",
     "metadata": {},
     "outputs": [],
     "prompt_number": 72
    },
    {
     "cell_type": "markdown",
     "metadata": {},
     "source": [
      "Min Area Rectangle Tests\n",
      "========================"
     ]
    },
    {
     "cell_type": "code",
     "collapsed": false,
     "input": [
      "\n",
      "\n",
      "files = loadFiles(\"./\" , \".*MinAreaRectangleTest(\\d+)\\.txt\");\n",
      "filesOut = loadFiles(\"./\" , \".*MinAreaRectangleTest(\\d+)Out\\.txt\");\n",
      "\n",
      "for i,f in files.items():\n",
      "    if(i==9): continue # skip test 9, it is empty!\n",
      "    fOut = filesOut[i]; print(i,f,fOut)\n",
      "    fig = plt.figure(\"MinAreaRectangleTest\"+str(i),(10,10))\n",
      "    \n",
      "    points = np.fromfile(f,dtype=np.float64); points=np.reshape(points,(-1,2)) \n",
      "    rect =  np.fromfile(fOut,dtype=np.float64); rect=np.reshape(rect,(-1,2))\n",
      "    rect = np.vstack((rect,rect[0]))\n",
      "\n",
      "    plt.plot(rect.T[0],rect.T[1],'r-', ms=20, markerfacecolor='None')\n",
      "    if(i!=12):\n",
      "        plt.scatter(points.T[0],points.T[1])\n",
      "    \n",
      "    plt.axis('equal')"
     ],
     "language": "python",
     "metadata": {},
     "outputs": [
      {
       "output_type": "stream",
       "stream": "stdout",
       "text": [
        "1 ./MinAreaRectangleTest1.txt ./MinAreaRectangleTest1Out.txt\n"
       ]
      },
      {
       "ename": "ValueError",
       "evalue": "total size of new array must be unchanged",
       "output_type": "pyerr",
       "traceback": [
        "\u001b[1;31m---------------------------------------------------------------------------\u001b[0m\n\u001b[1;31mValueError\u001b[0m                                Traceback (most recent call last)",
        "\u001b[1;32m<ipython-input-70-7a1639a1370b>\u001b[0m in \u001b[0;36m<module>\u001b[1;34m()\u001b[0m\n\u001b[0;32m     10\u001b[0m \u001b[1;33m\u001b[0m\u001b[0m\n\u001b[0;32m     11\u001b[0m     \u001b[0mpoints\u001b[0m \u001b[1;33m=\u001b[0m \u001b[0mnp\u001b[0m\u001b[1;33m.\u001b[0m\u001b[0mfromfile\u001b[0m\u001b[1;33m(\u001b[0m\u001b[0mf\u001b[0m\u001b[1;33m,\u001b[0m\u001b[0mdtype\u001b[0m\u001b[1;33m=\u001b[0m\u001b[0mnp\u001b[0m\u001b[1;33m.\u001b[0m\u001b[0mfloat64\u001b[0m\u001b[1;33m)\u001b[0m\u001b[1;33m;\u001b[0m \u001b[0mpoints\u001b[0m\u001b[1;33m=\u001b[0m\u001b[0mnp\u001b[0m\u001b[1;33m.\u001b[0m\u001b[0mreshape\u001b[0m\u001b[1;33m(\u001b[0m\u001b[0mpoints\u001b[0m\u001b[1;33m,\u001b[0m\u001b[1;33m(\u001b[0m\u001b[1;33m-\u001b[0m\u001b[1;36m1\u001b[0m\u001b[1;33m,\u001b[0m\u001b[1;36m2\u001b[0m\u001b[1;33m)\u001b[0m\u001b[1;33m)\u001b[0m\u001b[1;33m\u001b[0m\u001b[0m\n\u001b[1;32m---> 12\u001b[1;33m     \u001b[0mrect\u001b[0m \u001b[1;33m=\u001b[0m  \u001b[0mnp\u001b[0m\u001b[1;33m.\u001b[0m\u001b[0mfromfile\u001b[0m\u001b[1;33m(\u001b[0m\u001b[0mfOut\u001b[0m\u001b[1;33m,\u001b[0m\u001b[0mdtype\u001b[0m\u001b[1;33m=\u001b[0m\u001b[0mnp\u001b[0m\u001b[1;33m.\u001b[0m\u001b[0mfloat64\u001b[0m\u001b[1;33m)\u001b[0m\u001b[1;33m;\u001b[0m \u001b[0mrect\u001b[0m\u001b[1;33m=\u001b[0m\u001b[0mnp\u001b[0m\u001b[1;33m.\u001b[0m\u001b[0mreshape\u001b[0m\u001b[1;33m(\u001b[0m\u001b[0mrect\u001b[0m\u001b[1;33m,\u001b[0m\u001b[1;33m(\u001b[0m\u001b[1;33m-\u001b[0m\u001b[1;36m1\u001b[0m\u001b[1;33m,\u001b[0m\u001b[1;36m2\u001b[0m\u001b[1;33m)\u001b[0m\u001b[1;33m)\u001b[0m\u001b[1;33m\u001b[0m\u001b[0m\n\u001b[0m\u001b[0;32m     13\u001b[0m     \u001b[0mrect\u001b[0m \u001b[1;33m=\u001b[0m \u001b[0mnp\u001b[0m\u001b[1;33m.\u001b[0m\u001b[0mvstack\u001b[0m\u001b[1;33m(\u001b[0m\u001b[1;33m(\u001b[0m\u001b[0mrect\u001b[0m\u001b[1;33m,\u001b[0m\u001b[0mrect\u001b[0m\u001b[1;33m[\u001b[0m\u001b[1;36m0\u001b[0m\u001b[1;33m]\u001b[0m\u001b[1;33m)\u001b[0m\u001b[1;33m)\u001b[0m\u001b[1;33m\u001b[0m\u001b[0m\n\u001b[0;32m     14\u001b[0m \u001b[1;33m\u001b[0m\u001b[0m\n",
        "\u001b[1;32m/opt/python3.4env/lib/python3.4/site-packages/numpy/core/fromnumeric.py\u001b[0m in \u001b[0;36mreshape\u001b[1;34m(a, newshape, order)\u001b[0m\n\u001b[0;32m    219\u001b[0m     \u001b[1;32mexcept\u001b[0m \u001b[0mAttributeError\u001b[0m\u001b[1;33m:\u001b[0m\u001b[1;33m\u001b[0m\u001b[0m\n\u001b[0;32m    220\u001b[0m         \u001b[1;32mreturn\u001b[0m \u001b[0m_wrapit\u001b[0m\u001b[1;33m(\u001b[0m\u001b[0ma\u001b[0m\u001b[1;33m,\u001b[0m \u001b[1;34m'reshape'\u001b[0m\u001b[1;33m,\u001b[0m \u001b[0mnewshape\u001b[0m\u001b[1;33m,\u001b[0m \u001b[0morder\u001b[0m\u001b[1;33m=\u001b[0m\u001b[0morder\u001b[0m\u001b[1;33m)\u001b[0m\u001b[1;33m\u001b[0m\u001b[0m\n\u001b[1;32m--> 221\u001b[1;33m     \u001b[1;32mreturn\u001b[0m \u001b[0mreshape\u001b[0m\u001b[1;33m(\u001b[0m\u001b[0mnewshape\u001b[0m\u001b[1;33m,\u001b[0m \u001b[0morder\u001b[0m\u001b[1;33m=\u001b[0m\u001b[0morder\u001b[0m\u001b[1;33m)\u001b[0m\u001b[1;33m\u001b[0m\u001b[0m\n\u001b[0m\u001b[0;32m    222\u001b[0m \u001b[1;33m\u001b[0m\u001b[0m\n\u001b[0;32m    223\u001b[0m \u001b[1;33m\u001b[0m\u001b[0m\n",
        "\u001b[1;31mValueError\u001b[0m: total size of new array must be unchanged"
       ]
      }
     ],
     "prompt_number": 70
    },
    {
     "cell_type": "markdown",
     "metadata": {},
     "source": [
      "Diameter MVBB Tests\n",
      "========================"
     ]
    },
    {
     "cell_type": "code",
     "collapsed": false,
     "input": [
      "plt.close(\"all\")"
     ],
     "language": "python",
     "metadata": {},
     "outputs": [],
     "prompt_number": 58
    },
    {
     "cell_type": "code",
     "collapsed": false,
     "input": [
      "plt.close(\"all\")\n",
      "\n",
      "files = loadFiles(\"./\" , \".*DiameterTest(\\d+)\\.bin\");\n",
      "filesOut = loadFiles(\"./\" , \".*DiameterTest(\\d+)Out\\.txt\");\n",
      "filesOut2 = loadFiles(\"./\" , \".*DiameterTest(\\d+)Out2\\.bin\");\n",
      "\n",
      "for i,f in files.items():\n",
      "    if(i==9): continue # skip test 9, it is empty!\n",
      "    fOut = filesOut[i]; fOut2 = filesOut2[i]; print(i,f,fOut,fOut2)\n",
      "    fig = plt.figure(\"DiameterTest\"+str(i),(10,10))\n",
      "    \n",
      "    points = np.fromfile(f,dtype=np.float64); points=np.reshape(points,(-1,2)) \n",
      "    OOBB = np.atleast_2d(np.loadtxt(fOut));\n",
      "    sampled = np.fromfile(fOut2,dtype=np.float64); sampled=np.reshape(sampled,(-1,2)) \n",
      "\n",
      "    K_min = OOBB[0,0:3]\n",
      "    K_max = OOBB[1,0:3]\n",
      "    A_IK = OOBB[2:,0:3]\n",
      "    center = np.zeros((3,));\n",
      "    #print(A_IK,K_min,K_max,center)\n",
      "\n",
      "    ax = Axes3D(fig)\n",
      "    ax.scatter(points.T[0],points.T[1],points.T[2],c='b')\n",
      "    ax.scatter(sampled.T[0],sampled.T[1],sampled.T[2],c='r', marker='o', s=200)\n",
      "    plotCube(K_min,K_max,center,A_IK) # A_IK = R_KI (rotation from I to K)\n",
      "    plotAxis(center,A_IK,1)\n",
      "    plotAxis(center,np.identity(3),0.5)\n",
      "    axisEqual3D(ax)\n"
     ],
     "language": "python",
     "metadata": {},
     "outputs": [
      {
       "output_type": "stream",
       "stream": "stdout",
       "text": [
        "0 ./DiameterTest0.txt ./DiameterTest0Out.txt ./DiameterTest0Out2.txt\n",
        "1"
       ]
      },
      {
       "output_type": "stream",
       "stream": "stdout",
       "text": [
        " ./DiameterTest1.txt ./DiameterTest1Out.txt ./DiameterTest1Out2.txt\n",
        "2"
       ]
      },
      {
       "output_type": "stream",
       "stream": "stdout",
       "text": [
        " ./DiameterTest2.txt ./DiameterTest2Out.txt ./DiameterTest2Out2.txt\n",
        "3"
       ]
      },
      {
       "output_type": "stream",
       "stream": "stdout",
       "text": [
        " ./DiameterTest3.txt ./DiameterTest3Out.txt ./DiameterTest3Out2.txt\n",
        "4"
       ]
      },
      {
       "output_type": "stream",
       "stream": "stdout",
       "text": [
        " ./DiameterTest4.txt ./DiameterTest4Out.txt ./DiameterTest4Out2.txt\n",
        "5"
       ]
      },
      {
       "output_type": "stream",
       "stream": "stdout",
       "text": [
        " ./DiameterTest5.txt ./DiameterTest5Out.txt ./DiameterTest5Out2.txt\n",
        "6"
       ]
      },
      {
       "output_type": "stream",
       "stream": "stdout",
       "text": [
        " ./DiameterTest6.txt ./DiameterTest6Out.txt ./DiameterTest6Out2.txt\n",
        "7"
       ]
      },
      {
       "output_type": "stream",
       "stream": "stdout",
       "text": [
        " ./DiameterTest7.txt ./DiameterTest7Out.txt ./DiameterTest7Out2.txt\n",
        "8"
       ]
      },
      {
       "output_type": "stream",
       "stream": "stdout",
       "text": [
        " ./DiameterTest8.txt ./DiameterTest8Out.txt ./DiameterTest8Out2.txt\n",
        "10"
       ]
      },
      {
       "output_type": "stream",
       "stream": "stdout",
       "text": [
        " ./DiameterTest10.txt ./DiameterTest10Out.txt ./DiameterTest10Out2.txt\n",
        "11"
       ]
      },
      {
       "output_type": "stream",
       "stream": "stdout",
       "text": [
        " ./DiameterTest11.txt ./DiameterTest11Out.txt ./DiameterTest11Out2.txt\n",
        "12"
       ]
      },
      {
       "output_type": "stream",
       "stream": "stdout",
       "text": [
        " ./DiameterTest12.txt ./DiameterTest12Out.txt ./DiameterTest12Out2.txt\n",
        "13"
       ]
      },
      {
       "output_type": "stream",
       "stream": "stdout",
       "text": [
        " ./DiameterTest13.txt ./DiameterTest13Out.txt ./DiameterTest13Out2.txt\n",
        "14"
       ]
      },
      {
       "output_type": "stream",
       "stream": "stdout",
       "text": [
        " ./DiameterTest14.txt ./DiameterTest14Out.txt ./DiameterTest14Out2.txt\n",
        "15"
       ]
      },
      {
       "output_type": "stream",
       "stream": "stdout",
       "text": [
        " ./DiameterTest15.txt ./DiameterTest15Out.txt ./DiameterTest15Out2.txt\n",
        "16"
       ]
      },
      {
       "output_type": "stream",
       "stream": "stdout",
       "text": [
        " ./DiameterTest16.txt ./DiameterTest16Out.txt ./DiameterTest16Out2.txt\n",
        "17"
       ]
      },
      {
       "output_type": "stream",
       "stream": "stdout",
       "text": [
        " ./DiameterTest17.txt ./DiameterTest17Out.txt ./DiameterTest17Out2.txt\n",
        "18"
       ]
      },
      {
       "output_type": "stream",
       "stream": "stdout",
       "text": [
        " ./DiameterTest18.txt ./DiameterTest18Out.txt ./DiameterTest18Out2.txt\n",
        "19"
       ]
      },
      {
       "output_type": "stream",
       "stream": "stdout",
       "text": [
        " ./DiameterTest19.txt ./DiameterTest19Out.txt ./DiameterTest19Out2.txt\n",
        "20"
       ]
      },
      {
       "output_type": "stream",
       "stream": "stdout",
       "text": [
        " ./DiameterTest20.txt ./DiameterTest20Out.txt ./DiameterTest20Out2.txt\n",
        "21"
       ]
      },
      {
       "output_type": "stream",
       "stream": "stdout",
       "text": [
        " ./DiameterTest21.txt ./DiameterTest21Out.txt ./DiameterTest21Out2.txt\n",
        "22"
       ]
      },
      {
       "output_type": "stream",
       "stream": "stdout",
       "text": [
        " ./DiameterTest22.txt ./DiameterTest22Out.txt ./DiameterTest22Out2.txt\n",
        "23"
       ]
      },
      {
       "output_type": "stream",
       "stream": "stdout",
       "text": [
        " ./DiameterTest23.txt ./DiameterTest23Out.txt ./DiameterTest23Out2.txt\n",
        "24"
       ]
      },
      {
       "output_type": "stream",
       "stream": "stdout",
       "text": [
        " ./DiameterTest24.txt ./DiameterTest24Out.txt ./DiameterTest24Out2.txt\n",
        "25"
       ]
      },
      {
       "output_type": "stream",
       "stream": "stdout",
       "text": [
        " ./DiameterTest25.txt ./DiameterTest25Out.txt ./DiameterTest25Out2.txt\n",
        "26"
       ]
      },
      {
       "output_type": "stream",
       "stream": "stdout",
       "text": [
        " ./DiameterTest26.txt ./DiameterTest26Out.txt ./DiameterTest26Out2.txt\n",
        "27"
       ]
      },
      {
       "output_type": "stream",
       "stream": "stdout",
       "text": [
        " ./DiameterTest27.txt ./DiameterTest27Out.txt ./DiameterTest27Out2.txt\n",
        "28"
       ]
      },
      {
       "output_type": "stream",
       "stream": "stdout",
       "text": [
        " ./DiameterTest28.txt ./DiameterTest28Out.txt ./DiameterTest28Out2.txt\n",
        "29"
       ]
      },
      {
       "output_type": "stream",
       "stream": "stdout",
       "text": [
        " ./DiameterTest29.txt ./DiameterTest29Out.txt ./DiameterTest29Out2.txt\n",
        "30"
       ]
      },
      {
       "output_type": "stream",
       "stream": "stdout",
       "text": [
        " ./DiameterTest30.txt ./DiameterTest30Out.txt ./DiameterTest30Out2.txt\n",
        "31"
       ]
      },
      {
       "output_type": "stream",
       "stream": "stdout",
       "text": [
        " ./DiameterTest31.txt ./DiameterTest31Out.txt ./DiameterTest31Out2.txt\n",
        "32"
       ]
      },
      {
       "output_type": "stream",
       "stream": "stdout",
       "text": [
        " ./DiameterTest32.txt ./DiameterTest32Out.txt ./DiameterTest32Out2.txt\n",
        "33"
       ]
      },
      {
       "output_type": "stream",
       "stream": "stdout",
       "text": [
        " ./DiameterTest33.txt ./DiameterTest33Out.txt ./DiameterTest33Out2.txt\n",
        "34"
       ]
      },
      {
       "output_type": "stream",
       "stream": "stdout",
       "text": [
        " ./DiameterTest34.txt ./DiameterTest34Out.txt ./DiameterTest34Out2.txt\n",
        "35"
       ]
      },
      {
       "output_type": "stream",
       "stream": "stdout",
       "text": [
        " ./DiameterTest35.txt ./DiameterTest35Out.txt ./DiameterTest35Out2.txt\n",
        "36"
       ]
      },
      {
       "output_type": "stream",
       "stream": "stdout",
       "text": [
        " ./DiameterTest36.txt ./DiameterTest36Out.txt ./DiameterTest36Out2.txt\n",
        "37"
       ]
      },
      {
       "output_type": "stream",
       "stream": "stdout",
       "text": [
        " ./DiameterTest37.txt ./DiameterTest37Out.txt ./DiameterTest37Out2.txt\n",
        "38"
       ]
      },
      {
       "output_type": "stream",
       "stream": "stdout",
       "text": [
        " ./DiameterTest38.txt ./DiameterTest38Out.txt ./DiameterTest38Out2.txt\n",
        "39"
       ]
      },
      {
       "output_type": "stream",
       "stream": "stdout",
       "text": [
        " ./DiameterTest39.txt ./DiameterTest39Out.txt ./DiameterTest39Out2.txt\n",
        "40"
       ]
      },
      {
       "output_type": "stream",
       "stream": "stdout",
       "text": [
        " ./DiameterTest40.txt ./DiameterTest40Out.txt ./DiameterTest40Out2.txt\n",
        "41"
       ]
      },
      {
       "output_type": "stream",
       "stream": "stdout",
       "text": [
        " ./DiameterTest41.txt ./DiameterTest41Out.txt ./DiameterTest41Out2.txt\n",
        "42"
       ]
      },
      {
       "output_type": "stream",
       "stream": "stdout",
       "text": [
        " ./DiameterTest42.txt ./DiameterTest42Out.txt ./DiameterTest42Out2.txt\n",
        "43"
       ]
      },
      {
       "output_type": "stream",
       "stream": "stdout",
       "text": [
        " ./DiameterTest43.txt ./DiameterTest43Out.txt ./DiameterTest43Out2.txt\n",
        "44"
       ]
      },
      {
       "output_type": "stream",
       "stream": "stdout",
       "text": [
        " ./DiameterTest44.txt ./DiameterTest44Out.txt ./DiameterTest44Out2.txt\n",
        "45"
       ]
      },
      {
       "output_type": "stream",
       "stream": "stdout",
       "text": [
        " ./DiameterTest45.txt ./DiameterTest45Out.txt ./DiameterTest45Out2.txt\n",
        "46"
       ]
      },
      {
       "output_type": "stream",
       "stream": "stdout",
       "text": [
        " ./DiameterTest46.txt ./DiameterTest46Out.txt ./DiameterTest46Out2.txt\n",
        "47"
       ]
      },
      {
       "output_type": "stream",
       "stream": "stdout",
       "text": [
        " ./DiameterTest47.txt ./DiameterTest47Out.txt ./DiameterTest47Out2.txt\n",
        "48"
       ]
      },
      {
       "output_type": "stream",
       "stream": "stdout",
       "text": [
        " ./DiameterTest48.txt ./DiameterTest48Out.txt ./DiameterTest48Out2.txt\n",
        "49"
       ]
      },
      {
       "output_type": "stream",
       "stream": "stdout",
       "text": [
        " ./DiameterTest49.txt ./DiameterTest49Out.txt ./DiameterTest49Out2.txt\n",
        "50"
       ]
      },
      {
       "output_type": "stream",
       "stream": "stdout",
       "text": [
        " ./DiameterTest50.txt ./DiameterTest50Out.txt ./DiameterTest50Out2.txt\n"
       ]
      }
     ],
     "prompt_number": 57
    },
    {
     "cell_type": "markdown",
     "metadata": {},
     "source": [
      "MVBB Tests\n",
      "========================"
     ]
    },
    {
     "cell_type": "code",
     "collapsed": false,
     "input": [
      "plt.close(\"all\")"
     ],
     "language": "python",
     "metadata": {},
     "outputs": []
    },
    {
     "cell_type": "code",
     "collapsed": false,
     "input": [
      "plt.close(\"all\")\n",
      "\n",
      "files = loadFiles(\"./\" , \".*MVBBTest(\\d+)\\.bin\");\n",
      "filesOut = loadFiles(\"./\" , \".*MVBBTest(\\d+)Out\\.txt\");\n",
      "\n",
      "for i,f in files.items():\n",
      "    if(i==9): continue # skip test 9, it is empty!\n",
      "    fOut = filesOut[i]; print(i,f,fOut);\n",
      "    fig = plt.figure(\"MVBBTest\" + str(i),(10,10))\n",
      "    \n",
      "    points = np.fromfile(f,dtype=np.float64); points=np.reshape(points,(-1,2)) \n",
      "    OOBB = np.atleast_2d(np.loadtxt(fOut));\n",
      "\n",
      "    K_min = OOBB[0,0:3]\n",
      "    K_max = OOBB[1,0:3]\n",
      "    A_IK = OOBB[2:,0:3]\n",
      "    center = np.zeros((3,));\n",
      "    print(A_IK,K_min,K_max,center)\n",
      "    \n",
      "    ax = Axes3D(fig)\n",
      "    if(len(points) < 10000):\n",
      "        ax.scatter(points.T[0],points.T[1],points.T[2],c='b')\n",
      "    plotCube(K_min,K_max,center,A_IK) # A_IK = R_KI (rotation from I to K)\n",
      "    plotAxis(center,A_IK,1)\n",
      "    plotAxis(center,np.identity(3),0.5)\n",
      "    axisEqual3D(ax)"
     ],
     "language": "python",
     "metadata": {},
     "outputs": [
      {
       "ename": "KeyError",
       "evalue": "1",
       "output_type": "pyerr",
       "traceback": [
        "\u001b[1;31m---------------------------------------------------------------------------\u001b[0m\n\u001b[1;31mKeyError\u001b[0m                                  Traceback (most recent call last)",
        "\u001b[1;32m<ipython-input-71-373a8a1d0df9>\u001b[0m in \u001b[0;36m<module>\u001b[1;34m()\u001b[0m\n\u001b[0;32m      6\u001b[0m \u001b[1;32mfor\u001b[0m \u001b[0mi\u001b[0m\u001b[1;33m,\u001b[0m\u001b[0mf\u001b[0m \u001b[1;32min\u001b[0m \u001b[0mfiles\u001b[0m\u001b[1;33m.\u001b[0m\u001b[0mitems\u001b[0m\u001b[1;33m(\u001b[0m\u001b[1;33m)\u001b[0m\u001b[1;33m:\u001b[0m\u001b[1;33m\u001b[0m\u001b[0m\n\u001b[0;32m      7\u001b[0m     \u001b[1;32mif\u001b[0m\u001b[1;33m(\u001b[0m\u001b[0mi\u001b[0m\u001b[1;33m==\u001b[0m\u001b[1;36m9\u001b[0m\u001b[1;33m)\u001b[0m\u001b[1;33m:\u001b[0m \u001b[1;32mcontinue\u001b[0m \u001b[1;31m# skip test 9, it is empty!\u001b[0m\u001b[1;33m\u001b[0m\u001b[0m\n\u001b[1;32m----> 8\u001b[1;33m     \u001b[0mfOut\u001b[0m \u001b[1;33m=\u001b[0m \u001b[0mfilesOut\u001b[0m\u001b[1;33m[\u001b[0m\u001b[0mi\u001b[0m\u001b[1;33m]\u001b[0m\u001b[1;33m;\u001b[0m \u001b[0mprint\u001b[0m\u001b[1;33m(\u001b[0m\u001b[0mi\u001b[0m\u001b[1;33m,\u001b[0m\u001b[0mf\u001b[0m\u001b[1;33m,\u001b[0m\u001b[0mfOut\u001b[0m\u001b[1;33m)\u001b[0m\u001b[1;33m;\u001b[0m\u001b[1;33m\u001b[0m\u001b[0m\n\u001b[0m\u001b[0;32m      9\u001b[0m     \u001b[0mfig\u001b[0m \u001b[1;33m=\u001b[0m \u001b[0mplt\u001b[0m\u001b[1;33m.\u001b[0m\u001b[0mfigure\u001b[0m\u001b[1;33m(\u001b[0m\u001b[1;34m\"MVBBTest\"\u001b[0m \u001b[1;33m+\u001b[0m \u001b[0mstr\u001b[0m\u001b[1;33m(\u001b[0m\u001b[0mi\u001b[0m\u001b[1;33m)\u001b[0m\u001b[1;33m,\u001b[0m\u001b[1;33m(\u001b[0m\u001b[1;36m10\u001b[0m\u001b[1;33m,\u001b[0m\u001b[1;36m10\u001b[0m\u001b[1;33m)\u001b[0m\u001b[1;33m)\u001b[0m\u001b[1;33m\u001b[0m\u001b[0m\n\u001b[0;32m     10\u001b[0m \u001b[1;33m\u001b[0m\u001b[0m\n",
        "\u001b[1;31mKeyError\u001b[0m: 1"
       ]
      }
     ],
     "prompt_number": 71
    },
    {
     "cell_type": "code",
     "collapsed": false,
     "input": [],
     "language": "python",
     "metadata": {},
     "outputs": []
    }
   ],
   "metadata": {}
  }
 ]
}